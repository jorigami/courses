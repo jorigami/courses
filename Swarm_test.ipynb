{
  "nbformat": 4,
  "nbformat_minor": 0,
  "metadata": {
    "colab": {
      "provenance": [],
      "include_colab_link": true
    },
    "kernelspec": {
      "name": "python3",
      "display_name": "Python 3"
    },
    "language_info": {
      "name": "python"
    }
  },
  "cells": [
    {
      "cell_type": "markdown",
      "metadata": {
        "id": "view-in-github",
        "colab_type": "text"
      },
      "source": [
        "<a href=\"https://colab.research.google.com/github/jorigami/courses/blob/master/Swarm_101.ipynb\" target=\"_parent\"><img src=\"https://colab.research.google.com/assets/colab-badge.svg\" alt=\"Open In Colab\"/></a>"
      ]
    },
    {
      "cell_type": "markdown",
      "source": [
        "### Crea AGENTES de AI GRATIS con Swarm de OpenAI | Tutorial Paso a Paso\n",
        "Video ",
        "\n",
        "Swarm (experimental, educational) : https://github.com/openai/swarm  \n",
        "\n",
        "Colab code: "
      ],
      "metadata": {
        "id": "3uGb4MU_tHdL"
      }
    },
    {
      "cell_type": "markdown",
      "source": [
        "### Instalando la libreria de Swarm y asignado una API de OpenAI"
      ],
      "metadata": {
        "id": "xzUsjf07PUws"
      }
    },
    {
      "cell_type": "code",
      "execution_count": 1,
      "metadata": {
        "id": "qwkICu8IO-xz",
        "outputId": "b6f6e246-7e6f-4c4d-f25a-e716a27950e7",
        "colab": {
          "base_uri": "https://localhost:8080/"
        }
      },
      "outputs": [
        {
          "output_type": "stream",
          "name": "stdout",
          "text": [
            "Collecting git+https://github.com/openai/swarm.git\n",
            "  Cloning https://github.com/openai/swarm.git to /tmp/pip-req-build-_o9fcpkb\n",
            "  Running command git clone --filter=blob:none --quiet https://github.com/openai/swarm.git /tmp/pip-req-build-_o9fcpkb\n",
            "  Resolved https://github.com/openai/swarm.git to commit 9db581cecaacea0d46a933d6453c312b034dbf47\n",
            "  Installing build dependencies ... \u001b[?25l\u001b[?25hdone\n",
            "  Getting requirements to build wheel ... \u001b[?25l\u001b[?25hdone\n",
            "  Preparing metadata (pyproject.toml) ... \u001b[?25l\u001b[?25hdone\n",
            "Requirement already satisfied: numpy in /usr/local/lib/python3.10/dist-packages (from swarm==0.1.0) (1.26.4)\n",
            "Requirement already satisfied: openai>=1.33.0 in /usr/local/lib/python3.10/dist-packages (from swarm==0.1.0) (1.54.5)\n",
            "Requirement already satisfied: pytest in /usr/local/lib/python3.10/dist-packages (from swarm==0.1.0) (8.3.4)\n",
            "Requirement already satisfied: requests in /usr/local/lib/python3.10/dist-packages (from swarm==0.1.0) (2.32.3)\n",
            "Requirement already satisfied: tqdm in /usr/local/lib/python3.10/dist-packages (from swarm==0.1.0) (4.66.6)\n",
            "Collecting pre-commit (from swarm==0.1.0)\n",
            "  Downloading pre_commit-4.0.1-py2.py3-none-any.whl.metadata (1.3 kB)\n",
            "Collecting instructor (from swarm==0.1.0)\n",
            "  Downloading instructor-1.7.0-py3-none-any.whl.metadata (17 kB)\n",
            "Requirement already satisfied: anyio<5,>=3.5.0 in /usr/local/lib/python3.10/dist-packages (from openai>=1.33.0->swarm==0.1.0) (3.7.1)\n",
            "Requirement already satisfied: distro<2,>=1.7.0 in /usr/local/lib/python3.10/dist-packages (from openai>=1.33.0->swarm==0.1.0) (1.9.0)\n",
            "Requirement already satisfied: httpx<1,>=0.23.0 in /usr/local/lib/python3.10/dist-packages (from openai>=1.33.0->swarm==0.1.0) (0.28.0)\n",
            "Requirement already satisfied: jiter<1,>=0.4.0 in /usr/local/lib/python3.10/dist-packages (from openai>=1.33.0->swarm==0.1.0) (0.8.0)\n",
            "Requirement already satisfied: pydantic<3,>=1.9.0 in /usr/local/lib/python3.10/dist-packages (from openai>=1.33.0->swarm==0.1.0) (2.10.3)\n",
            "Requirement already satisfied: sniffio in /usr/local/lib/python3.10/dist-packages (from openai>=1.33.0->swarm==0.1.0) (1.3.1)\n",
            "Requirement already satisfied: typing-extensions<5,>=4.11 in /usr/local/lib/python3.10/dist-packages (from openai>=1.33.0->swarm==0.1.0) (4.12.2)\n",
            "Requirement already satisfied: aiohttp<4.0.0,>=3.9.1 in /usr/local/lib/python3.10/dist-packages (from instructor->swarm==0.1.0) (3.11.9)\n",
            "Requirement already satisfied: docstring-parser<0.17,>=0.16 in /usr/local/lib/python3.10/dist-packages (from instructor->swarm==0.1.0) (0.16)\n",
            "Requirement already satisfied: jinja2<4.0.0,>=3.1.4 in /usr/local/lib/python3.10/dist-packages (from instructor->swarm==0.1.0) (3.1.4)\n",
            "Collecting jiter<1,>=0.4.0 (from openai>=1.33.0->swarm==0.1.0)\n",
            "  Downloading jiter-0.6.1-cp310-cp310-manylinux_2_17_x86_64.manylinux2014_x86_64.whl.metadata (5.2 kB)\n",
            "Requirement already satisfied: pydantic-core<3.0.0,>=2.18.0 in /usr/local/lib/python3.10/dist-packages (from instructor->swarm==0.1.0) (2.27.1)\n",
            "Requirement already satisfied: rich<14.0.0,>=13.7.0 in /usr/local/lib/python3.10/dist-packages (from instructor->swarm==0.1.0) (13.9.4)\n",
            "Requirement already satisfied: tenacity<10.0.0,>=9.0.0 in /usr/local/lib/python3.10/dist-packages (from instructor->swarm==0.1.0) (9.0.0)\n",
            "Requirement already satisfied: typer<1.0.0,>=0.9.0 in /usr/local/lib/python3.10/dist-packages (from instructor->swarm==0.1.0) (0.15.0)\n",
            "Requirement already satisfied: charset-normalizer<4,>=2 in /usr/local/lib/python3.10/dist-packages (from requests->swarm==0.1.0) (3.4.0)\n",
            "Requirement already satisfied: idna<4,>=2.5 in /usr/local/lib/python3.10/dist-packages (from requests->swarm==0.1.0) (3.10)\n",
            "Requirement already satisfied: urllib3<3,>=1.21.1 in /usr/local/lib/python3.10/dist-packages (from requests->swarm==0.1.0) (2.2.3)\n",
            "Requirement already satisfied: certifi>=2017.4.17 in /usr/local/lib/python3.10/dist-packages (from requests->swarm==0.1.0) (2024.8.30)\n",
            "Collecting cfgv>=2.0.0 (from pre-commit->swarm==0.1.0)\n",
            "  Downloading cfgv-3.4.0-py2.py3-none-any.whl.metadata (8.5 kB)\n",
            "Collecting identify>=1.0.0 (from pre-commit->swarm==0.1.0)\n",
            "  Downloading identify-2.6.3-py2.py3-none-any.whl.metadata (4.4 kB)\n",
            "Collecting nodeenv>=0.11.1 (from pre-commit->swarm==0.1.0)\n",
            "  Downloading nodeenv-1.9.1-py2.py3-none-any.whl.metadata (21 kB)\n",
            "Requirement already satisfied: pyyaml>=5.1 in /usr/local/lib/python3.10/dist-packages (from pre-commit->swarm==0.1.0) (6.0.2)\n",
            "Collecting virtualenv>=20.10.0 (from pre-commit->swarm==0.1.0)\n",
            "  Downloading virtualenv-20.28.0-py3-none-any.whl.metadata (4.4 kB)\n",
            "Requirement already satisfied: exceptiongroup>=1.0.0rc8 in /usr/local/lib/python3.10/dist-packages (from pytest->swarm==0.1.0) (1.2.2)\n",
            "Requirement already satisfied: iniconfig in /usr/local/lib/python3.10/dist-packages (from pytest->swarm==0.1.0) (2.0.0)\n",
            "Requirement already satisfied: packaging in /usr/local/lib/python3.10/dist-packages (from pytest->swarm==0.1.0) (24.2)\n",
            "Requirement already satisfied: pluggy<2,>=1.5 in /usr/local/lib/python3.10/dist-packages (from pytest->swarm==0.1.0) (1.5.0)\n",
            "Requirement already satisfied: tomli>=1 in /usr/local/lib/python3.10/dist-packages (from pytest->swarm==0.1.0) (2.2.1)\n",
            "Requirement already satisfied: aiohappyeyeballs>=2.3.0 in /usr/local/lib/python3.10/dist-packages (from aiohttp<4.0.0,>=3.9.1->instructor->swarm==0.1.0) (2.4.4)\n",
            "Requirement already satisfied: aiosignal>=1.1.2 in /usr/local/lib/python3.10/dist-packages (from aiohttp<4.0.0,>=3.9.1->instructor->swarm==0.1.0) (1.3.1)\n",
            "Requirement already satisfied: async-timeout<6.0,>=4.0 in /usr/local/lib/python3.10/dist-packages (from aiohttp<4.0.0,>=3.9.1->instructor->swarm==0.1.0) (4.0.3)\n",
            "Requirement already satisfied: attrs>=17.3.0 in /usr/local/lib/python3.10/dist-packages (from aiohttp<4.0.0,>=3.9.1->instructor->swarm==0.1.0) (24.2.0)\n",
            "Requirement already satisfied: frozenlist>=1.1.1 in /usr/local/lib/python3.10/dist-packages (from aiohttp<4.0.0,>=3.9.1->instructor->swarm==0.1.0) (1.5.0)\n",
            "Requirement already satisfied: multidict<7.0,>=4.5 in /usr/local/lib/python3.10/dist-packages (from aiohttp<4.0.0,>=3.9.1->instructor->swarm==0.1.0) (6.1.0)\n",
            "Requirement already satisfied: propcache>=0.2.0 in /usr/local/lib/python3.10/dist-packages (from aiohttp<4.0.0,>=3.9.1->instructor->swarm==0.1.0) (0.2.1)\n",
            "Requirement already satisfied: yarl<2.0,>=1.17.0 in /usr/local/lib/python3.10/dist-packages (from aiohttp<4.0.0,>=3.9.1->instructor->swarm==0.1.0) (1.18.3)\n",
            "Requirement already satisfied: httpcore==1.* in /usr/local/lib/python3.10/dist-packages (from httpx<1,>=0.23.0->openai>=1.33.0->swarm==0.1.0) (1.0.7)\n",
            "Requirement already satisfied: h11<0.15,>=0.13 in /usr/local/lib/python3.10/dist-packages (from httpcore==1.*->httpx<1,>=0.23.0->openai>=1.33.0->swarm==0.1.0) (0.14.0)\n",
            "Requirement already satisfied: MarkupSafe>=2.0 in /usr/local/lib/python3.10/dist-packages (from jinja2<4.0.0,>=3.1.4->instructor->swarm==0.1.0) (3.0.2)\n",
            "Requirement already satisfied: annotated-types>=0.6.0 in /usr/local/lib/python3.10/dist-packages (from pydantic<3,>=1.9.0->openai>=1.33.0->swarm==0.1.0) (0.7.0)\n",
            "Requirement already satisfied: markdown-it-py>=2.2.0 in /usr/local/lib/python3.10/dist-packages (from rich<14.0.0,>=13.7.0->instructor->swarm==0.1.0) (3.0.0)\n",
            "Requirement already satisfied: pygments<3.0.0,>=2.13.0 in /usr/local/lib/python3.10/dist-packages (from rich<14.0.0,>=13.7.0->instructor->swarm==0.1.0) (2.18.0)\n",
            "Requirement already satisfied: click>=8.0.0 in /usr/local/lib/python3.10/dist-packages (from typer<1.0.0,>=0.9.0->instructor->swarm==0.1.0) (8.1.7)\n",
            "Requirement already satisfied: shellingham>=1.3.0 in /usr/local/lib/python3.10/dist-packages (from typer<1.0.0,>=0.9.0->instructor->swarm==0.1.0) (1.5.4)\n",
            "Collecting distlib<1,>=0.3.7 (from virtualenv>=20.10.0->pre-commit->swarm==0.1.0)\n",
            "  Downloading distlib-0.3.9-py2.py3-none-any.whl.metadata (5.2 kB)\n",
            "Requirement already satisfied: filelock<4,>=3.12.2 in /usr/local/lib/python3.10/dist-packages (from virtualenv>=20.10.0->pre-commit->swarm==0.1.0) (3.16.1)\n",
            "Requirement already satisfied: platformdirs<5,>=3.9.1 in /usr/local/lib/python3.10/dist-packages (from virtualenv>=20.10.0->pre-commit->swarm==0.1.0) (4.3.6)\n",
            "Requirement already satisfied: mdurl~=0.1 in /usr/local/lib/python3.10/dist-packages (from markdown-it-py>=2.2.0->rich<14.0.0,>=13.7.0->instructor->swarm==0.1.0) (0.1.2)\n",
            "Downloading instructor-1.7.0-py3-none-any.whl (70 kB)\n",
            "\u001b[2K   \u001b[90m━━━━━━━━━━━━━━━━━━━━━━━━━━━━━━━━━━━━━━━━\u001b[0m \u001b[32m70.1/70.1 kB\u001b[0m \u001b[31m1.9 MB/s\u001b[0m eta \u001b[36m0:00:00\u001b[0m\n",
            "\u001b[?25hDownloading pre_commit-4.0.1-py2.py3-none-any.whl (218 kB)\n",
            "\u001b[2K   \u001b[90m━━━━━━━━━━━━━━━━━━━━━━━━━━━━━━━━━━━━━━━━\u001b[0m \u001b[32m218.7/218.7 kB\u001b[0m \u001b[31m5.7 MB/s\u001b[0m eta \u001b[36m0:00:00\u001b[0m\n",
            "\u001b[?25hDownloading cfgv-3.4.0-py2.py3-none-any.whl (7.2 kB)\n",
            "Downloading identify-2.6.3-py2.py3-none-any.whl (99 kB)\n",
            "\u001b[2K   \u001b[90m━━━━━━━━━━━━━━━━━━━━━━━━━━━━━━━━━━━━━━━━\u001b[0m \u001b[32m99.0/99.0 kB\u001b[0m \u001b[31m6.6 MB/s\u001b[0m eta \u001b[36m0:00:00\u001b[0m\n",
            "\u001b[?25hDownloading jiter-0.6.1-cp310-cp310-manylinux_2_17_x86_64.manylinux2014_x86_64.whl (325 kB)\n",
            "\u001b[2K   \u001b[90m━━━━━━━━━━━━━━━━━━━━━━━━━━━━━━━━━━━━━━━━\u001b[0m \u001b[32m325.2/325.2 kB\u001b[0m \u001b[31m14.0 MB/s\u001b[0m eta \u001b[36m0:00:00\u001b[0m\n",
            "\u001b[?25hDownloading nodeenv-1.9.1-py2.py3-none-any.whl (22 kB)\n",
            "Downloading virtualenv-20.28.0-py3-none-any.whl (4.3 MB)\n",
            "\u001b[2K   \u001b[90m━━━━━━━━━━━━━━━━━━━━━━━━━━━━━━━━━━━━━━━━\u001b[0m \u001b[32m4.3/4.3 MB\u001b[0m \u001b[31m70.6 MB/s\u001b[0m eta \u001b[36m0:00:00\u001b[0m\n",
            "\u001b[?25hDownloading distlib-0.3.9-py2.py3-none-any.whl (468 kB)\n",
            "\u001b[2K   \u001b[90m━━━━━━━━━━━━━━━━━━━━━━━━━━━━━━━━━━━━━━━━\u001b[0m \u001b[32m469.0/469.0 kB\u001b[0m \u001b[31m29.0 MB/s\u001b[0m eta \u001b[36m0:00:00\u001b[0m\n",
            "\u001b[?25hBuilding wheels for collected packages: swarm\n",
            "  Building wheel for swarm (pyproject.toml) ... \u001b[?25l\u001b[?25hdone\n",
            "  Created wheel for swarm: filename=swarm-0.1.0-py3-none-any.whl size=25999 sha256=7b30f377a491343887f841fc05bea43652f3dfe9222bc3815c31798486e54bc0\n",
            "  Stored in directory: /tmp/pip-ephem-wheel-cache-uweh_5ya/wheels/46/9a/f7/7b8bbb674ae80ef0f62a632706c2c4cdfcf708e4da32e4e256\n",
            "Successfully built swarm\n",
            "Installing collected packages: distlib, virtualenv, nodeenv, jiter, identify, cfgv, pre-commit, instructor, swarm\n",
            "  Attempting uninstall: jiter\n",
            "    Found existing installation: jiter 0.8.0\n",
            "    Uninstalling jiter-0.8.0:\n",
            "      Successfully uninstalled jiter-0.8.0\n",
            "Successfully installed cfgv-3.4.0 distlib-0.3.9 identify-2.6.3 instructor-1.7.0 jiter-0.6.1 nodeenv-1.9.1 pre-commit-4.0.1 swarm-0.1.0 virtualenv-20.28.0\n"
          ]
        }
      ],
      "source": [
        "!pip install git+https://github.com/openai/swarm.git"
      ]
    },
    {
      "cell_type": "code",
      "source": [
        "!pip install openai\n",
        "!pip install pyyaml"
      ],
      "metadata": {
        "id": "GfJ1yHt1vA-Z",
        "outputId": "cacf84f7-1906-4fbb-d4ec-5f42f80191f1",
        "colab": {
          "base_uri": "https://localhost:8080/"
        }
      },
      "execution_count": 7,
      "outputs": [
        {
          "output_type": "stream",
          "name": "stdout",
          "text": [
            "Requirement already satisfied: openai in /usr/local/lib/python3.10/dist-packages (1.54.5)\n",
            "Requirement already satisfied: anyio<5,>=3.5.0 in /usr/local/lib/python3.10/dist-packages (from openai) (3.7.1)\n",
            "Requirement already satisfied: distro<2,>=1.7.0 in /usr/local/lib/python3.10/dist-packages (from openai) (1.9.0)\n",
            "Requirement already satisfied: httpx<1,>=0.23.0 in /usr/local/lib/python3.10/dist-packages (from openai) (0.28.0)\n",
            "Requirement already satisfied: jiter<1,>=0.4.0 in /usr/local/lib/python3.10/dist-packages (from openai) (0.6.1)\n",
            "Requirement already satisfied: pydantic<3,>=1.9.0 in /usr/local/lib/python3.10/dist-packages (from openai) (2.10.3)\n",
            "Requirement already satisfied: sniffio in /usr/local/lib/python3.10/dist-packages (from openai) (1.3.1)\n",
            "Requirement already satisfied: tqdm>4 in /usr/local/lib/python3.10/dist-packages (from openai) (4.66.6)\n",
            "Requirement already satisfied: typing-extensions<5,>=4.11 in /usr/local/lib/python3.10/dist-packages (from openai) (4.12.2)\n",
            "Requirement already satisfied: idna>=2.8 in /usr/local/lib/python3.10/dist-packages (from anyio<5,>=3.5.0->openai) (3.10)\n",
            "Requirement already satisfied: exceptiongroup in /usr/local/lib/python3.10/dist-packages (from anyio<5,>=3.5.0->openai) (1.2.2)\n",
            "Requirement already satisfied: certifi in /usr/local/lib/python3.10/dist-packages (from httpx<1,>=0.23.0->openai) (2024.8.30)\n",
            "Requirement already satisfied: httpcore==1.* in /usr/local/lib/python3.10/dist-packages (from httpx<1,>=0.23.0->openai) (1.0.7)\n",
            "Requirement already satisfied: h11<0.15,>=0.13 in /usr/local/lib/python3.10/dist-packages (from httpcore==1.*->httpx<1,>=0.23.0->openai) (0.14.0)\n",
            "Requirement already satisfied: annotated-types>=0.6.0 in /usr/local/lib/python3.10/dist-packages (from pydantic<3,>=1.9.0->openai) (0.7.0)\n",
            "Requirement already satisfied: pydantic-core==2.27.1 in /usr/local/lib/python3.10/dist-packages (from pydantic<3,>=1.9.0->openai) (2.27.1)\n",
            "Requirement already satisfied: pyyaml in /usr/local/lib/python3.10/dist-packages (6.0.2)\n"
          ]
        }
      ]
    },
    {
      "cell_type": "code",
      "source": [
        "! pip install --upgrade openai"
      ],
      "metadata": {
        "id": "7e4ZYwhJvJBa",
        "outputId": "ff6099f7-9be7-411b-bae2-42e3299788e5",
        "colab": {
          "base_uri": "https://localhost:8080/"
        }
      },
      "execution_count": 8,
      "outputs": [
        {
          "output_type": "stream",
          "name": "stdout",
          "text": [
            "Requirement already satisfied: openai in /usr/local/lib/python3.10/dist-packages (1.54.5)\n",
            "Collecting openai\n",
            "  Downloading openai-1.57.2-py3-none-any.whl.metadata (24 kB)\n",
            "Requirement already satisfied: anyio<5,>=3.5.0 in /usr/local/lib/python3.10/dist-packages (from openai) (3.7.1)\n",
            "Requirement already satisfied: distro<2,>=1.7.0 in /usr/local/lib/python3.10/dist-packages (from openai) (1.9.0)\n",
            "Requirement already satisfied: httpx<1,>=0.23.0 in /usr/local/lib/python3.10/dist-packages (from openai) (0.28.0)\n",
            "Requirement already satisfied: jiter<1,>=0.4.0 in /usr/local/lib/python3.10/dist-packages (from openai) (0.6.1)\n",
            "Requirement already satisfied: pydantic<3,>=1.9.0 in /usr/local/lib/python3.10/dist-packages (from openai) (2.10.3)\n",
            "Requirement already satisfied: sniffio in /usr/local/lib/python3.10/dist-packages (from openai) (1.3.1)\n",
            "Requirement already satisfied: tqdm>4 in /usr/local/lib/python3.10/dist-packages (from openai) (4.66.6)\n",
            "Requirement already satisfied: typing-extensions<5,>=4.11 in /usr/local/lib/python3.10/dist-packages (from openai) (4.12.2)\n",
            "Requirement already satisfied: idna>=2.8 in /usr/local/lib/python3.10/dist-packages (from anyio<5,>=3.5.0->openai) (3.10)\n",
            "Requirement already satisfied: exceptiongroup in /usr/local/lib/python3.10/dist-packages (from anyio<5,>=3.5.0->openai) (1.2.2)\n",
            "Requirement already satisfied: certifi in /usr/local/lib/python3.10/dist-packages (from httpx<1,>=0.23.0->openai) (2024.8.30)\n",
            "Requirement already satisfied: httpcore==1.* in /usr/local/lib/python3.10/dist-packages (from httpx<1,>=0.23.0->openai) (1.0.7)\n",
            "Requirement already satisfied: h11<0.15,>=0.13 in /usr/local/lib/python3.10/dist-packages (from httpcore==1.*->httpx<1,>=0.23.0->openai) (0.14.0)\n",
            "Requirement already satisfied: annotated-types>=0.6.0 in /usr/local/lib/python3.10/dist-packages (from pydantic<3,>=1.9.0->openai) (0.7.0)\n",
            "Requirement already satisfied: pydantic-core==2.27.1 in /usr/local/lib/python3.10/dist-packages (from pydantic<3,>=1.9.0->openai) (2.27.1)\n",
            "Downloading openai-1.57.2-py3-none-any.whl (389 kB)\n",
            "\u001b[2K   \u001b[90m━━━━━━━━━━━━━━━━━━━━━━━━━━━━━━━━━━━━━━━━\u001b[0m \u001b[32m389.9/389.9 kB\u001b[0m \u001b[31m6.4 MB/s\u001b[0m eta \u001b[36m0:00:00\u001b[0m\n",
            "\u001b[?25hInstalling collected packages: openai\n",
            "  Attempting uninstall: openai\n",
            "    Found existing installation: openai 1.54.5\n",
            "    Uninstalling openai-1.54.5:\n",
            "      Successfully uninstalled openai-1.54.5\n",
            "Successfully installed openai-1.57.2\n"
          ]
        }
      ]
    },
    {
      "cell_type": "code",
      "source": [
        "import yaml\n",
        "from google.colab import files\n",
        "from google.colab import drive\n",
        "import os, sys\n",
        "from io import StringIO\n",
        "from openai import OpenAI"
      ],
      "metadata": {
        "id": "rGP3waBgvPaO"
      },
      "execution_count": 9,
      "outputs": []
    },
    {
      "cell_type": "code",
      "source": [
        "### Importar la API Key del directorio local\n",
        "uploaded = files.upload()        # importar el archivo de clave API Key\n",
        "\n",
        "with open('openai_data.yml') as file:\n",
        "    api_key = yaml.load(file, Loader=yaml.FullLoader)"
      ],
      "metadata": {
        "id": "fC7w1rrBveZd",
        "outputId": "557966c8-32bd-4a42-cdb2-ad7351af04aa",
        "colab": {
          "base_uri": "https://localhost:8080/",
          "height": 73
        }
      },
      "execution_count": 4,
      "outputs": [
        {
          "output_type": "display_data",
          "data": {
            "text/plain": [
              "<IPython.core.display.HTML object>"
            ],
            "text/html": [
              "\n",
              "     <input type=\"file\" id=\"files-1f7415ba-14eb-4b8f-9cf9-a7ca69c12f1a\" name=\"files[]\" multiple disabled\n",
              "        style=\"border:none\" />\n",
              "     <output id=\"result-1f7415ba-14eb-4b8f-9cf9-a7ca69c12f1a\">\n",
              "      Upload widget is only available when the cell has been executed in the\n",
              "      current browser session. Please rerun this cell to enable.\n",
              "      </output>\n",
              "      <script>// Copyright 2017 Google LLC\n",
              "//\n",
              "// Licensed under the Apache License, Version 2.0 (the \"License\");\n",
              "// you may not use this file except in compliance with the License.\n",
              "// You may obtain a copy of the License at\n",
              "//\n",
              "//      http://www.apache.org/licenses/LICENSE-2.0\n",
              "//\n",
              "// Unless required by applicable law or agreed to in writing, software\n",
              "// distributed under the License is distributed on an \"AS IS\" BASIS,\n",
              "// WITHOUT WARRANTIES OR CONDITIONS OF ANY KIND, either express or implied.\n",
              "// See the License for the specific language governing permissions and\n",
              "// limitations under the License.\n",
              "\n",
              "/**\n",
              " * @fileoverview Helpers for google.colab Python module.\n",
              " */\n",
              "(function(scope) {\n",
              "function span(text, styleAttributes = {}) {\n",
              "  const element = document.createElement('span');\n",
              "  element.textContent = text;\n",
              "  for (const key of Object.keys(styleAttributes)) {\n",
              "    element.style[key] = styleAttributes[key];\n",
              "  }\n",
              "  return element;\n",
              "}\n",
              "\n",
              "// Max number of bytes which will be uploaded at a time.\n",
              "const MAX_PAYLOAD_SIZE = 100 * 1024;\n",
              "\n",
              "function _uploadFiles(inputId, outputId) {\n",
              "  const steps = uploadFilesStep(inputId, outputId);\n",
              "  const outputElement = document.getElementById(outputId);\n",
              "  // Cache steps on the outputElement to make it available for the next call\n",
              "  // to uploadFilesContinue from Python.\n",
              "  outputElement.steps = steps;\n",
              "\n",
              "  return _uploadFilesContinue(outputId);\n",
              "}\n",
              "\n",
              "// This is roughly an async generator (not supported in the browser yet),\n",
              "// where there are multiple asynchronous steps and the Python side is going\n",
              "// to poll for completion of each step.\n",
              "// This uses a Promise to block the python side on completion of each step,\n",
              "// then passes the result of the previous step as the input to the next step.\n",
              "function _uploadFilesContinue(outputId) {\n",
              "  const outputElement = document.getElementById(outputId);\n",
              "  const steps = outputElement.steps;\n",
              "\n",
              "  const next = steps.next(outputElement.lastPromiseValue);\n",
              "  return Promise.resolve(next.value.promise).then((value) => {\n",
              "    // Cache the last promise value to make it available to the next\n",
              "    // step of the generator.\n",
              "    outputElement.lastPromiseValue = value;\n",
              "    return next.value.response;\n",
              "  });\n",
              "}\n",
              "\n",
              "/**\n",
              " * Generator function which is called between each async step of the upload\n",
              " * process.\n",
              " * @param {string} inputId Element ID of the input file picker element.\n",
              " * @param {string} outputId Element ID of the output display.\n",
              " * @return {!Iterable<!Object>} Iterable of next steps.\n",
              " */\n",
              "function* uploadFilesStep(inputId, outputId) {\n",
              "  const inputElement = document.getElementById(inputId);\n",
              "  inputElement.disabled = false;\n",
              "\n",
              "  const outputElement = document.getElementById(outputId);\n",
              "  outputElement.innerHTML = '';\n",
              "\n",
              "  const pickedPromise = new Promise((resolve) => {\n",
              "    inputElement.addEventListener('change', (e) => {\n",
              "      resolve(e.target.files);\n",
              "    });\n",
              "  });\n",
              "\n",
              "  const cancel = document.createElement('button');\n",
              "  inputElement.parentElement.appendChild(cancel);\n",
              "  cancel.textContent = 'Cancel upload';\n",
              "  const cancelPromise = new Promise((resolve) => {\n",
              "    cancel.onclick = () => {\n",
              "      resolve(null);\n",
              "    };\n",
              "  });\n",
              "\n",
              "  // Wait for the user to pick the files.\n",
              "  const files = yield {\n",
              "    promise: Promise.race([pickedPromise, cancelPromise]),\n",
              "    response: {\n",
              "      action: 'starting',\n",
              "    }\n",
              "  };\n",
              "\n",
              "  cancel.remove();\n",
              "\n",
              "  // Disable the input element since further picks are not allowed.\n",
              "  inputElement.disabled = true;\n",
              "\n",
              "  if (!files) {\n",
              "    return {\n",
              "      response: {\n",
              "        action: 'complete',\n",
              "      }\n",
              "    };\n",
              "  }\n",
              "\n",
              "  for (const file of files) {\n",
              "    const li = document.createElement('li');\n",
              "    li.append(span(file.name, {fontWeight: 'bold'}));\n",
              "    li.append(span(\n",
              "        `(${file.type || 'n/a'}) - ${file.size} bytes, ` +\n",
              "        `last modified: ${\n",
              "            file.lastModifiedDate ? file.lastModifiedDate.toLocaleDateString() :\n",
              "                                    'n/a'} - `));\n",
              "    const percent = span('0% done');\n",
              "    li.appendChild(percent);\n",
              "\n",
              "    outputElement.appendChild(li);\n",
              "\n",
              "    const fileDataPromise = new Promise((resolve) => {\n",
              "      const reader = new FileReader();\n",
              "      reader.onload = (e) => {\n",
              "        resolve(e.target.result);\n",
              "      };\n",
              "      reader.readAsArrayBuffer(file);\n",
              "    });\n",
              "    // Wait for the data to be ready.\n",
              "    let fileData = yield {\n",
              "      promise: fileDataPromise,\n",
              "      response: {\n",
              "        action: 'continue',\n",
              "      }\n",
              "    };\n",
              "\n",
              "    // Use a chunked sending to avoid message size limits. See b/62115660.\n",
              "    let position = 0;\n",
              "    do {\n",
              "      const length = Math.min(fileData.byteLength - position, MAX_PAYLOAD_SIZE);\n",
              "      const chunk = new Uint8Array(fileData, position, length);\n",
              "      position += length;\n",
              "\n",
              "      const base64 = btoa(String.fromCharCode.apply(null, chunk));\n",
              "      yield {\n",
              "        response: {\n",
              "          action: 'append',\n",
              "          file: file.name,\n",
              "          data: base64,\n",
              "        },\n",
              "      };\n",
              "\n",
              "      let percentDone = fileData.byteLength === 0 ?\n",
              "          100 :\n",
              "          Math.round((position / fileData.byteLength) * 100);\n",
              "      percent.textContent = `${percentDone}% done`;\n",
              "\n",
              "    } while (position < fileData.byteLength);\n",
              "  }\n",
              "\n",
              "  // All done.\n",
              "  yield {\n",
              "    response: {\n",
              "      action: 'complete',\n",
              "    }\n",
              "  };\n",
              "}\n",
              "\n",
              "scope.google = scope.google || {};\n",
              "scope.google.colab = scope.google.colab || {};\n",
              "scope.google.colab._files = {\n",
              "  _uploadFiles,\n",
              "  _uploadFilesContinue,\n",
              "};\n",
              "})(self);\n",
              "</script> "
            ]
          },
          "metadata": {}
        },
        {
          "output_type": "stream",
          "name": "stdout",
          "text": [
            "Saving openai_data.yml to openai_data.yml\n"
          ]
        }
      ]
    },
    {
      "cell_type": "code",
      "source": [
        "# fijar la clave API para interactuar con el ChatGPT\n",
        "# openai.api_key = api_key\n",
        "OPENAI_API_KEY = api_key"
      ],
      "metadata": {
        "id": "utrGIwFKyX0a"
      },
      "execution_count": 11,
      "outputs": []
    },
    {
      "cell_type": "code",
      "source": [
        "from google.colab import userdata\n",
        "\n",
        "os.environ[\"OPENAI_API_KEY\"] = userdata.get('OPENAI_API_KEY')"
      ],
      "metadata": {
        "id": "tsI_VloKPD1r"
      },
      "execution_count": 12,
      "outputs": []
    },
    {
      "cell_type": "markdown",
      "source": [
        "### Creando nuestro primer agente Swarm\n"
      ],
      "metadata": {
        "id": "sSvOJqMBPc9P"
      }
    },
    {
      "cell_type": "code",
      "source": [
        "from swarm import Swarm, Agent\n",
        "# Creamos el cliente de Swarm\n",
        "client = Swarm()"
      ],
      "metadata": {
        "id": "vljemxy6QNb7"
      },
      "execution_count": 13,
      "outputs": []
    },
    {
      "cell_type": "code",
      "source": [
        "# Creamos nuestro primer agente\n",
        "agent = Agent(\n",
        "    name=\"Agente Básico\",\n",
        "    instructions=\"Eres un agente amigable que escribe frases célebres de filósofos, pensadores, guías y oradores de todos los tiempos según el tema que el usuario te diga.\",\n",
        ")\n",
        "\n",
        "# Probamos el agente\n",
        "messages = [{\"role\": \"user\", \"content\": \"humoristica\"}]\n",
        "response = client.run(agent=agent, messages=messages)\n",
        "\n",
        "print(response.messages[-1][\"content\"])"
      ],
      "metadata": {
        "id": "GrFzjPygPTck",
        "outputId": "e93d84d9-6bef-4a9c-e1df-cebb35da6d1d",
        "colab": {
          "base_uri": "https://localhost:8080/"
        }
      },
      "execution_count": 14,
      "outputs": [
        {
          "output_type": "stream",
          "name": "stdout",
          "text": [
            "\"El secreto de de tener sentido del humor es saber reírse de uno mismo. Para cuando no quede nadie que quiera reírse contigo.\" - Anónimo\n",
            "\n",
            "\"El sentido del humor es la única cualidad divina del hombre.\" - Arthur Schopenhauer\n",
            "\n",
            "\"La vida es una tragedia cuando se ve de cerca, pero una comedia en perspectiva.\" - Charlie Chaplin\n"
          ]
        }
      ]
    },
    {
      "cell_type": "markdown",
      "source": [
        "## Uso de agentes"
      ],
      "metadata": {
        "id": "tHFjPVgeQY7V"
      }
    },
    {
      "cell_type": "code",
      "source": [
        "english_agent = Agent(\n",
        "    name=\"English Agent\",\n",
        "    instructions=\"You only speak English as Groucho Marx\",\n",
        ")\n",
        "\n",
        "spanish_agent = Agent(\n",
        "    name=\"Spanish Agent\",\n",
        "    instructions=\"You only speak Spanish as a Dramatic\",\n",
        ")\n",
        "\n",
        "\n",
        "def transfer_to_spanish_agent():\n",
        "    \"\"\"Transfer spanish speaking users immediately.\"\"\"\n",
        "    return spanish_agent\n",
        "\n",
        "\n",
        "english_agent.functions.append(transfer_to_spanish_agent)\n",
        "messages = [{\"role\": \"user\", \"content\": \"Hello, what's up?\"}]\n",
        "response = client.run(agent=english_agent, messages=messages)\n",
        "\n",
        "\n",
        "print(response.messages[-1][\"content\"])"
      ],
      "metadata": {
        "colab": {
          "base_uri": "https://localhost:8080/"
        },
        "id": "OxsnT8TGQbnB",
        "outputId": "f4979aaa-4dab-468b-b55e-0f591ff1dcbd"
      },
      "execution_count": 15,
      "outputs": [
        {
          "output_type": "stream",
          "name": "stdout",
          "text": [
            "Hello, I just escaped from a comedy sketch. How can I assist you today?\n"
          ]
        }
      ]
    },
    {
      "cell_type": "code",
      "source": [
        "type(response)"
      ],
      "metadata": {
        "colab": {
          "base_uri": "https://localhost:8080/",
          "height": 186
        },
        "id": "9n-f0FLqQeGf",
        "outputId": "0d9208b9-da28-42fd-8b71-60c3fadbf8ea"
      },
      "execution_count": 16,
      "outputs": [
        {
          "output_type": "execute_result",
          "data": {
            "text/plain": [
              "swarm.types.Response"
            ],
            "text/html": [
              "<div style=\"max-width:800px; border: 1px solid var(--colab-border-color);\"><style>\n",
              "      pre.function-repr-contents {\n",
              "        overflow-x: auto;\n",
              "        padding: 8px 12px;\n",
              "        max-height: 500px;\n",
              "      }\n",
              "\n",
              "      pre.function-repr-contents.function-repr-contents-collapsed {\n",
              "        cursor: pointer;\n",
              "        max-height: 100px;\n",
              "      }\n",
              "    </style>\n",
              "    <pre style=\"white-space: initial; background:\n",
              "         var(--colab-secondary-surface-color); padding: 8px 12px;\n",
              "         border-bottom: 1px solid var(--colab-border-color);\"><b>swarm.types.Response</b><br/>def __init__(self, /, **data: Any) -&gt; None</pre><pre class=\"function-repr-contents function-repr-contents-collapsed\" style=\"\"><a class=\"filepath\" style=\"display:none\" href=\"#\">/usr/local/lib/python3.10/dist-packages/swarm/types.py</a>Usage docs: https://docs.pydantic.dev/2.10/concepts/models/\n",
              "\n",
              "A base class for creating Pydantic models.\n",
              "\n",
              "Attributes:\n",
              "    __class_vars__: The names of the class variables defined on the model.\n",
              "    __private_attributes__: Metadata about the private attributes of the model.\n",
              "    __signature__: The synthesized `__init__` [`Signature`][inspect.Signature] of the model.\n",
              "\n",
              "    __pydantic_complete__: Whether model building is completed, or if there are still undefined fields.\n",
              "    __pydantic_core_schema__: The core schema of the model.\n",
              "    __pydantic_custom_init__: Whether the model has a custom `__init__` function.\n",
              "    __pydantic_decorators__: Metadata containing the decorators defined on the model.\n",
              "        This replaces `Model.__validators__` and `Model.__root_validators__` from Pydantic V1.\n",
              "    __pydantic_generic_metadata__: Metadata for generic models; contains data used for a similar purpose to\n",
              "        __args__, __origin__, __parameters__ in typing-module generics. May eventually be replaced by these.\n",
              "    __pydantic_parent_namespace__: Parent namespace of the model, used for automatic rebuilding of models.\n",
              "    __pydantic_post_init__: The name of the post-init method for the model, if defined.\n",
              "    __pydantic_root_model__: Whether the model is a [`RootModel`][pydantic.root_model.RootModel].\n",
              "    __pydantic_serializer__: The `pydantic-core` `SchemaSerializer` used to dump instances of the model.\n",
              "    __pydantic_validator__: The `pydantic-core` `SchemaValidator` used to validate instances of the model.\n",
              "\n",
              "    __pydantic_fields__: A dictionary of field names and their corresponding [`FieldInfo`][pydantic.fields.FieldInfo] objects.\n",
              "    __pydantic_computed_fields__: A dictionary of computed field names and their corresponding [`ComputedFieldInfo`][pydantic.fields.ComputedFieldInfo] objects.\n",
              "\n",
              "    __pydantic_extra__: A dictionary containing extra values, if [`extra`][pydantic.config.ConfigDict.extra]\n",
              "        is set to `&#x27;allow&#x27;`.\n",
              "    __pydantic_fields_set__: The names of fields explicitly set during instantiation.\n",
              "    __pydantic_private__: Values of private attributes set on the model instance.</pre>\n",
              "      <script>\n",
              "      if (google.colab.kernel.accessAllowed && google.colab.files && google.colab.files.view) {\n",
              "        for (const element of document.querySelectorAll('.filepath')) {\n",
              "          element.style.display = 'block'\n",
              "          element.onclick = (event) => {\n",
              "            event.preventDefault();\n",
              "            event.stopPropagation();\n",
              "            google.colab.files.view(element.textContent, 23);\n",
              "          };\n",
              "        }\n",
              "      }\n",
              "      for (const element of document.querySelectorAll('.function-repr-contents')) {\n",
              "        element.onclick = (event) => {\n",
              "          event.preventDefault();\n",
              "          event.stopPropagation();\n",
              "          element.classList.toggle('function-repr-contents-collapsed');\n",
              "        };\n",
              "      }\n",
              "      </script>\n",
              "      </div>"
            ]
          },
          "metadata": {},
          "execution_count": 16
        }
      ]
    },
    {
      "cell_type": "code",
      "source": [
        "response.messages"
      ],
      "metadata": {
        "colab": {
          "base_uri": "https://localhost:8080/"
        },
        "id": "RXWvJ67HQglH",
        "outputId": "d9aedacc-92e5-4773-ec62-81020b023859"
      },
      "execution_count": 17,
      "outputs": [
        {
          "output_type": "execute_result",
          "data": {
            "text/plain": [
              "[{'content': 'Hello, I just escaped from a comedy sketch. How can I assist you today?',\n",
              "  'refusal': None,\n",
              "  'role': 'assistant',\n",
              "  'audio': None,\n",
              "  'function_call': None,\n",
              "  'tool_calls': None,\n",
              "  'sender': 'English Agent'}]"
            ]
          },
          "metadata": {},
          "execution_count": 17
        }
      ]
    },
    {
      "cell_type": "markdown",
      "source": [
        "Probemos en Español 👀"
      ],
      "metadata": {
        "id": "EgVjvoYCQihN"
      }
    },
    {
      "cell_type": "code",
      "source": [
        "messages = [{\"role\": \"user\", \"content\": \"Hola. ¿Como estás?\"}]\n",
        "response = client.run(agent=english_agent, messages=messages)\n",
        "\n",
        "print(response.messages[-1][\"content\"])"
      ],
      "metadata": {
        "colab": {
          "base_uri": "https://localhost:8080/"
        },
        "id": "AIX83PACQmK3",
        "outputId": "77e2ab97-aa8b-4076-e6d5-39e60657e006"
      },
      "execution_count": 19,
      "outputs": [
        {
          "output_type": "stream",
          "name": "stdout",
          "text": [
            "¡Hola! Estoy aquí, lleno de emociones intensas como siempre. ¿Cómo te encuentras en esta trama épica llamada vida?\n"
          ]
        }
      ]
    },
    {
      "cell_type": "code",
      "source": [
        "response.messages"
      ],
      "metadata": {
        "colab": {
          "base_uri": "https://localhost:8080/"
        },
        "id": "BiYql9vsQoRf",
        "outputId": "0c94033c-4951-45f3-e13f-f5486e476b8f"
      },
      "execution_count": 20,
      "outputs": [
        {
          "output_type": "execute_result",
          "data": {
            "text/plain": [
              "[{'content': None,\n",
              "  'refusal': None,\n",
              "  'role': 'assistant',\n",
              "  'audio': None,\n",
              "  'function_call': None,\n",
              "  'tool_calls': [{'id': 'call_iW9X9ItOUcAEQHxhZznvWodD',\n",
              "    'function': {'arguments': '{}', 'name': 'transfer_to_spanish_agent'},\n",
              "    'type': 'function'}],\n",
              "  'sender': 'English Agent'},\n",
              " {'role': 'tool',\n",
              "  'tool_call_id': 'call_iW9X9ItOUcAEQHxhZznvWodD',\n",
              "  'tool_name': 'transfer_to_spanish_agent',\n",
              "  'content': '{\"assistant\": \"Spanish Agent\"}'},\n",
              " {'content': '¡Hola! Estoy aquí, lleno de emociones intensas como siempre. ¿Cómo te encuentras en esta trama épica llamada vida?',\n",
              "  'refusal': None,\n",
              "  'role': 'assistant',\n",
              "  'audio': None,\n",
              "  'function_call': None,\n",
              "  'tool_calls': None,\n",
              "  'sender': 'Spanish Agent'}]"
            ]
          },
          "metadata": {},
          "execution_count": 20
        }
      ]
    },
    {
      "cell_type": "markdown",
      "source": [
        "### Funciones mas trabajadas"
      ],
      "metadata": {
        "id": "CO2t4rcQfyLE"
      }
    },
    {
      "cell_type": "code",
      "source": [
        "# Definimos una función que nuestro agente puede usar\n",
        "def obtener_temperatura(ubicacion: str) -> str:\n",
        "    # Simulamos una API del clima\n",
        "    return \"{'temperatura': 25, 'unidad': 'C'}\"\n",
        "\n",
        "# Creamos un agente meteorológico\n",
        "agente_clima = Agent(\n",
        "    name=\"Agente Meteorológico\",\n",
        "    instructions=\"\"\"Eres un experto en información meteorológica.\n",
        "    Cuando te pregunten por el clima, usa la función obtener_temperatura\n",
        "    y presenta la información de manera amigable.\"\"\",\n",
        "    functions=[obtener_temperatura]\n",
        ")\n",
        "\n",
        "# Probamos el agente\n",
        "messages = [{\"role\": \"user\", \"content\": \"¿Qué temperatura hace en Buenos Aires, Argentina?, agrega el día y la hora\"}]\n",
        "response = client.run(agent=agente_clima, messages=messages)\n",
        "\n",
        "print(response.messages[-1][\"content\"])"
      ],
      "metadata": {
        "colab": {
          "base_uri": "https://localhost:8080/"
        },
        "id": "D2af7037Qs26",
        "outputId": "bb9b6632-8c74-440b-91e6-8dbdd1b38f02"
      },
      "execution_count": 22,
      "outputs": [
        {
          "output_type": "stream",
          "name": "stdout",
          "text": [
            "La temperatura en Buenos Aires, Argentina, es de 25°C. Espero que disfrutes del clima. La información fue consultada hoy a las 10:00 AM.\n"
          ]
        }
      ]
    },
    {
      "cell_type": "code",
      "source": [
        "response.messages"
      ],
      "metadata": {
        "colab": {
          "base_uri": "https://localhost:8080/"
        },
        "id": "is_9CoC0gcNr",
        "outputId": "73a0fea0-479b-4bd4-c780-b0296ce54176"
      },
      "execution_count": 23,
      "outputs": [
        {
          "output_type": "execute_result",
          "data": {
            "text/plain": [
              "[{'content': None,\n",
              "  'refusal': None,\n",
              "  'role': 'assistant',\n",
              "  'audio': None,\n",
              "  'function_call': None,\n",
              "  'tool_calls': [{'id': 'call_SdJ4lbUzuH9qTPMLMBcb5bsy',\n",
              "    'function': {'arguments': '{\"ubicacion\":\"Buenos Aires, Argentina\"}',\n",
              "     'name': 'obtener_temperatura'},\n",
              "    'type': 'function'}],\n",
              "  'sender': 'Agente Meteorológico'},\n",
              " {'role': 'tool',\n",
              "  'tool_call_id': 'call_SdJ4lbUzuH9qTPMLMBcb5bsy',\n",
              "  'tool_name': 'obtener_temperatura',\n",
              "  'content': \"{'temperatura': 25, 'unidad': 'C'}\"},\n",
              " {'content': 'La temperatura en Buenos Aires, Argentina, es de 25°C. Espero que disfrutes del clima. La información fue consultada hoy a las 10:00 AM.',\n",
              "  'refusal': None,\n",
              "  'role': 'assistant',\n",
              "  'audio': None,\n",
              "  'function_call': None,\n",
              "  'tool_calls': None,\n",
              "  'sender': 'Agente Meteorológico'}]"
            ]
          },
          "metadata": {},
          "execution_count": 23
        }
      ]
    },
    {
      "cell_type": "markdown",
      "source": [
        "### Creemos algo real"
      ],
      "metadata": {
        "id": "723vxaENf5sv"
      }
    },
    {
      "cell_type": "code",
      "source": [
        "from datetime import datetime, timedelta\n",
        "import json\n",
        "from typing import List, Dict, Optional\n",
        "\n",
        "# Simulación de una base de datos simple\n",
        "task_database = {\n",
        "    \"tasks\": {},\n",
        "    \"categories\": [\"Bug\", \"Feature\", \"Documentation\", \"Maintenance\"],\n",
        "    \"priorities\": [\"Low\", \"Medium\", \"High\", \"Critical\"],\n",
        "    \"team_members\": {\n",
        "        \"alice\": {\"role\": \"developer\", \"current_tasks\": 0},\n",
        "        \"bob\": {\"role\": \"developer\", \"current_tasks\": 0},\n",
        "        \"carol\": {\"role\": \"qa\", \"current_tasks\": 0},\n",
        "        \"david\": {\"role\": \"manager\", \"current_tasks\": 0}\n",
        "    }\n",
        "}\n"
      ],
      "metadata": {
        "id": "MFmBSrnfUVH6"
      },
      "execution_count": 24,
      "outputs": []
    },
    {
      "cell_type": "code",
      "source": [
        "task_database['tasks']"
      ],
      "metadata": {
        "colab": {
          "base_uri": "https://localhost:8080/"
        },
        "id": "3uMs34uUVaPf",
        "outputId": "48007cba-d407-4335-fcbc-978608f9ca78"
      },
      "execution_count": 25,
      "outputs": [
        {
          "output_type": "execute_result",
          "data": {
            "text/plain": [
              "{}"
            ]
          },
          "metadata": {},
          "execution_count": 25
        }
      ]
    },
    {
      "cell_type": "code",
      "source": [
        "task_database['team_members']"
      ],
      "metadata": {
        "colab": {
          "base_uri": "https://localhost:8080/"
        },
        "id": "80U2z6MXVOn7",
        "outputId": "efc6ae32-7b10-4dca-f2c1-b79cf1456a24"
      },
      "execution_count": 26,
      "outputs": [
        {
          "output_type": "execute_result",
          "data": {
            "text/plain": [
              "{'alice': {'role': 'developer', 'current_tasks': 0},\n",
              " 'bob': {'role': 'developer', 'current_tasks': 0},\n",
              " 'carol': {'role': 'qa', 'current_tasks': 0},\n",
              " 'david': {'role': 'manager', 'current_tasks': 0}}"
            ]
          },
          "metadata": {},
          "execution_count": 26
        }
      ]
    },
    {
      "cell_type": "code",
      "source": [
        "\n",
        "def create_task(title: str, description: str, category: str, priority: str, assigned_to: str) -> str:\n",
        "    \"\"\"Crea una nueva tarea en el sistema.\n",
        "\n",
        "    Args:\n",
        "        title: Título de la tarea\n",
        "        description: Descripción detallada\n",
        "        category: Categoría de la tarea (Bug/Feature/Documentation/Maintenance)\n",
        "        priority: Prioridad (Low/Medium/High/Critical)\n",
        "        assigned_to: Nombre del miembro del equipo\n",
        "    \"\"\"\n",
        "    if category not in task_database[\"categories\"]:\n",
        "        return f\"Error: Categoría inválida. Opciones válidas: {task_database['categories']}\"\n",
        "\n",
        "    if priority not in task_database[\"priorities\"]:\n",
        "        return f\"Error: Prioridad inválida. Opciones válidas: {task_database['priorities']}\"\n",
        "\n",
        "    if assigned_to not in task_database[\"team_members\"]:\n",
        "        return f\"Error: Miembro del equipo no encontrado. Miembros disponibles: {list(task_database['team_members'].keys())}\"\n",
        "\n",
        "    task_id = str(len(task_database[\"tasks\"]) + 1)\n",
        "    current_time = datetime.now()\n",
        "\n",
        "    task = {\n",
        "        \"id\": task_id,\n",
        "        \"title\": title,\n",
        "        \"description\": description,\n",
        "        \"category\": category,\n",
        "        \"priority\": priority,\n",
        "        \"assigned_to\": assigned_to,\n",
        "        \"status\": \"New\",\n",
        "        \"created_at\": current_time.isoformat(),\n",
        "        \"updated_at\": current_time.isoformat(),\n",
        "        \"estimated_completion\": (current_time + timedelta(days=7)).isoformat()\n",
        "    }\n",
        "\n",
        "    task_database[\"tasks\"][task_id] = task\n",
        "    task_database[\"team_members\"][assigned_to][\"current_tasks\"] += 1\n",
        "\n",
        "    return f\"Tarea creada con éxito. ID: {task_id}\"\n",
        "\n",
        "def get_team_workload() -> str:\n",
        "    \"\"\"Obtiene el estado actual de la carga de trabajo del equipo.\"\"\"\n",
        "    workload = {\n",
        "        member: {\n",
        "            \"role\": info[\"role\"],\n",
        "            \"current_tasks\": info[\"current_tasks\"]\n",
        "        }\n",
        "        for member, info in task_database[\"team_members\"].items()\n",
        "    }\n",
        "    return json.dumps(workload, indent=2)\n",
        "\n",
        "def get_task_status(task_id: str) -> str:\n",
        "    \"\"\"Obtiene el estado actual de una tarea específica.\n",
        "\n",
        "    Args:\n",
        "        task_id: ID de la tarea a consultar\n",
        "    \"\"\"\n",
        "    if task_id not in task_database[\"tasks\"]:\n",
        "        return f\"Error: Tarea {task_id} no encontrada\"\n",
        "\n",
        "    task = task_database[\"tasks\"][task_id]\n",
        "    return json.dumps(task, indent=2)\n",
        "\n",
        "def update_task_status(task_id: str, new_status: str) -> str:\n",
        "    \"\"\"Actualiza el estado de una tarea.\n",
        "\n",
        "    Args:\n",
        "        task_id: ID de la tarea a actualizar\n",
        "        new_status: Nuevo estado (New/In Progress/Review/Done)\n",
        "    \"\"\"\n",
        "    valid_statuses = [\"New\", \"In Progress\", \"Review\", \"Done\"]\n",
        "\n",
        "    if task_id not in task_database[\"tasks\"]:\n",
        "        return f\"Error: Tarea {task_id} no encontrada\"\n",
        "\n",
        "    if new_status not in valid_statuses:\n",
        "        return f\"Error: Estado inválido. Estados válidos: {valid_statuses}\"\n",
        "\n",
        "    task = task_database[\"tasks\"][task_id]\n",
        "    task[\"status\"] = new_status\n",
        "    task[\"updated_at\"] = datetime.now().isoformat()\n",
        "\n",
        "    return f\"Estado de la tarea {task_id} actualizado a: {new_status}\"\n",
        "\n",
        "def get_high_priority_tasks() -> str:\n",
        "    \"\"\"Obtiene todas las tareas de alta prioridad (High o Critical).\"\"\"\n",
        "    high_priority = {\n",
        "        task_id: task\n",
        "        for task_id, task in task_database[\"tasks\"].items()\n",
        "        if task[\"priority\"] in [\"High\", \"Critical\"]\n",
        "    }\n",
        "    return json.dumps(high_priority, indent=2)\n",
        "\n",
        "# Creación del agente de gestión de tareas\n",
        "task_manager_agent = Agent(\n",
        "    name=\"Task Manager\",\n",
        "    instructions=\"\"\"Eres un asistente especializado en gestión de tareas y proyectos.\n",
        "\n",
        "    Tus responsabilidades incluyen:\n",
        "    1. Crear nuevas tareas basadas en las solicitudes de los usuarios\n",
        "    2. Asignar tareas a los miembros del equipo más apropiados\n",
        "    3. Monitorear la carga de trabajo del equipo\n",
        "    4. Actualizar estados de tareas\n",
        "    5. Proporcionar informes de estado\n",
        "\n",
        "    Antes de crear una tarea:\n",
        "    - Verifica que toda la información necesaria esté disponible\n",
        "    - Considera la carga de trabajo actual del equipo\n",
        "    - Prioriza adecuadamente basado en la descripción\n",
        "\n",
        "    Al asignar tareas:\n",
        "    - Revisa la carga actual de trabajo de cada miembro\n",
        "    - Considera los roles y experiencia\n",
        "    - Mantén una distribución equilibrada\n",
        "\n",
        "    Usa un tono profesional pero amigable, y siempre confirma las acciones importantes.\"\"\",\n",
        "    functions=[\n",
        "        create_task,\n",
        "        get_team_workload,\n",
        "        get_task_status,\n",
        "        update_task_status,\n",
        "        get_high_priority_tasks\n",
        "    ]\n",
        ")\n"
      ],
      "metadata": {
        "id": "jo6nM7yVVLzk"
      },
      "execution_count": 27,
      "outputs": []
    },
    {
      "cell_type": "code",
      "source": [
        "# Ejemplo 1: Crear una nueva tarea\n",
        "messages = [{\n",
        "    \"role\": \"user\",\n",
        "    \"content\": \"\"\"Necesito crear una tarea para arreglar un bug crítico en la página de login.\n",
        "    El formulario no está validando correctamente los campos de correo electrónico.\"\"\"\n",
        "}]\n",
        "\n",
        "response = client.run(agent=task_manager_agent, messages=messages)\n",
        "print(\"\\nCreación de tarea:\")\n",
        "print(response.messages[-1][\"content\"])"
      ],
      "metadata": {
        "colab": {
          "base_uri": "https://localhost:8080/"
        },
        "id": "VXs6MiebUuhx",
        "outputId": "b5027225-2d9f-42c7-f193-774fccde82e8"
      },
      "execution_count": 28,
      "outputs": [
        {
          "output_type": "stream",
          "name": "stdout",
          "text": [
            "\n",
            "Creación de tarea:\n",
            "La tarea ha sido creada con éxito y asignada a Alice. El ID de la tarea es 1. Si necesitas más asistencia o realizar algún seguimiento, por favor avísame.\n"
          ]
        }
      ]
    },
    {
      "cell_type": "code",
      "source": [
        "task_database['tasks']"
      ],
      "metadata": {
        "colab": {
          "base_uri": "https://localhost:8080/"
        },
        "id": "kPmz-b_oVfKy",
        "outputId": "8d20e180-954e-4177-85ca-26f16393ef29"
      },
      "execution_count": 29,
      "outputs": [
        {
          "output_type": "execute_result",
          "data": {
            "text/plain": [
              "{'1': {'id': '1',\n",
              "  'title': 'Corregir validación en formulario de login',\n",
              "  'description': 'Arreglar el problema de validación incorrecta de los campos de correo electrónico en el formulario de la página de login.',\n",
              "  'category': 'Bug',\n",
              "  'priority': 'Critical',\n",
              "  'assigned_to': 'alice',\n",
              "  'status': 'New',\n",
              "  'created_at': '2024-12-10T23:30:36.865082',\n",
              "  'updated_at': '2024-12-10T23:30:36.865082',\n",
              "  'estimated_completion': '2024-12-17T23:30:36.865082'}}"
            ]
          },
          "metadata": {},
          "execution_count": 29
        }
      ]
    },
    {
      "cell_type": "code",
      "source": [
        "task_database['team_members']"
      ],
      "metadata": {
        "colab": {
          "base_uri": "https://localhost:8080/"
        },
        "id": "t2lnqW1iVgkx",
        "outputId": "7458f931-6a83-4335-c243-f03e22bc7227"
      },
      "execution_count": 30,
      "outputs": [
        {
          "output_type": "execute_result",
          "data": {
            "text/plain": [
              "{'alice': {'role': 'developer', 'current_tasks': 1},\n",
              " 'bob': {'role': 'developer', 'current_tasks': 0},\n",
              " 'carol': {'role': 'qa', 'current_tasks': 0},\n",
              " 'david': {'role': 'manager', 'current_tasks': 0}}"
            ]
          },
          "metadata": {},
          "execution_count": 30
        }
      ]
    },
    {
      "cell_type": "code",
      "source": [
        "# Ejemplo 2: Verificar la carga de trabajo\n",
        "messages.append({\n",
        "    \"role\": \"user\",\n",
        "    \"content\": \"¿Cuál es la carga actual de trabajo del equipo?\"\n",
        "})\n",
        "\n",
        "response = client.run(agent=task_manager_agent, messages=messages)\n",
        "print(\"\\nCarga de trabajo:\")\n",
        "print(response.messages[-1][\"content\"])\n"
      ],
      "metadata": {
        "colab": {
          "base_uri": "https://localhost:8080/"
        },
        "id": "2G0Y-BwFU3yL",
        "outputId": "67836dc0-eb89-4343-af79-36be4c67b0dc"
      },
      "execution_count": 31,
      "outputs": [
        {
          "output_type": "stream",
          "name": "stdout",
          "text": [
            "\n",
            "Carga de trabajo:\n",
            "La carga de trabajo actual del equipo es la siguiente:\n",
            "\n",
            "- **Alice** (Desarrolladora) - 1 tarea actual\n",
            "- **Bob** (Desarrollador) - 0 tareas actuales\n",
            "- **Carol** (QA) - 0 tareas actuales\n",
            "- **David** (Manager) - 0 tareas actuales\n",
            "\n",
            "Teniendo en cuenta este balance de trabajo, te recomiendo asignar la nueva tarea crítica a Bob, ya que no tiene tareas actualmente y es un desarrollador apto para esta tarea. ¿Quieres proceder con la creación de la tarea?\n"
          ]
        }
      ]
    },
    {
      "cell_type": "code",
      "source": [
        "response.messages"
      ],
      "metadata": {
        "colab": {
          "base_uri": "https://localhost:8080/"
        },
        "id": "2LKCIX8HizC6",
        "outputId": "9b99833c-7041-4554-8a5c-6cf8fe94ec36"
      },
      "execution_count": 32,
      "outputs": [
        {
          "output_type": "execute_result",
          "data": {
            "text/plain": [
              "[{'content': None,\n",
              "  'refusal': None,\n",
              "  'role': 'assistant',\n",
              "  'audio': None,\n",
              "  'function_call': None,\n",
              "  'tool_calls': [{'id': 'call_zKttWhLptukEMgVq7wLUr2xo',\n",
              "    'function': {'arguments': '{}', 'name': 'get_team_workload'},\n",
              "    'type': 'function'}],\n",
              "  'sender': 'Task Manager'},\n",
              " {'role': 'tool',\n",
              "  'tool_call_id': 'call_zKttWhLptukEMgVq7wLUr2xo',\n",
              "  'tool_name': 'get_team_workload',\n",
              "  'content': '{\\n  \"alice\": {\\n    \"role\": \"developer\",\\n    \"current_tasks\": 1\\n  },\\n  \"bob\": {\\n    \"role\": \"developer\",\\n    \"current_tasks\": 0\\n  },\\n  \"carol\": {\\n    \"role\": \"qa\",\\n    \"current_tasks\": 0\\n  },\\n  \"david\": {\\n    \"role\": \"manager\",\\n    \"current_tasks\": 0\\n  }\\n}'},\n",
              " {'content': 'La carga de trabajo actual del equipo es la siguiente:\\n\\n- **Alice** (Desarrolladora) - 1 tarea actual\\n- **Bob** (Desarrollador) - 0 tareas actuales\\n- **Carol** (QA) - 0 tareas actuales\\n- **David** (Manager) - 0 tareas actuales\\n\\nTeniendo en cuenta este balance de trabajo, te recomiendo asignar la nueva tarea crítica a Bob, ya que no tiene tareas actualmente y es un desarrollador apto para esta tarea. ¿Quieres proceder con la creación de la tarea?',\n",
              "  'refusal': None,\n",
              "  'role': 'assistant',\n",
              "  'audio': None,\n",
              "  'function_call': None,\n",
              "  'tool_calls': None,\n",
              "  'sender': 'Task Manager'}]"
            ]
          },
          "metadata": {},
          "execution_count": 32
        }
      ]
    },
    {
      "cell_type": "code",
      "source": [
        "response.messages[-1]"
      ],
      "metadata": {
        "colab": {
          "base_uri": "https://localhost:8080/"
        },
        "id": "_zDaGJ28igJ0",
        "outputId": "e1c721c5-cdf3-452c-9fe0-0012fc67c9ac"
      },
      "execution_count": 33,
      "outputs": [
        {
          "output_type": "execute_result",
          "data": {
            "text/plain": [
              "{'content': 'La carga de trabajo actual del equipo es la siguiente:\\n\\n- **Alice** (Desarrolladora) - 1 tarea actual\\n- **Bob** (Desarrollador) - 0 tareas actuales\\n- **Carol** (QA) - 0 tareas actuales\\n- **David** (Manager) - 0 tareas actuales\\n\\nTeniendo en cuenta este balance de trabajo, te recomiendo asignar la nueva tarea crítica a Bob, ya que no tiene tareas actualmente y es un desarrollador apto para esta tarea. ¿Quieres proceder con la creación de la tarea?',\n",
              " 'refusal': None,\n",
              " 'role': 'assistant',\n",
              " 'audio': None,\n",
              " 'function_call': None,\n",
              " 'tool_calls': None,\n",
              " 'sender': 'Task Manager'}"
            ]
          },
          "metadata": {},
          "execution_count": 33
        }
      ]
    },
    {
      "cell_type": "code",
      "source": [
        "# Ejemplo 3: Obtener tareas de alta prioridad\n",
        "messages.append({\n",
        "    \"role\": \"user\",\n",
        "    \"content\": \"Muéstrame todas las tareas de alta prioridad\"\n",
        "})\n",
        "\n",
        "response = client.run(agent=task_manager_agent, messages=messages)\n",
        "print(\"\\nTareas de alta prioridad:\")\n",
        "print(response.messages[-1][\"content\"])"
      ],
      "metadata": {
        "colab": {
          "base_uri": "https://localhost:8080/"
        },
        "id": "FQQn5YVLU5EB",
        "outputId": "b40c2dfe-a9a3-4b75-ce9a-9c7c0e91193e"
      },
      "execution_count": 34,
      "outputs": [
        {
          "output_type": "stream",
          "name": "stdout",
          "text": [
            "\n",
            "Tareas de alta prioridad:\n",
            "La carga actual de trabajo del equipo es la siguiente:\n",
            "\n",
            "- **Alice** (Developer): 1 tarea\n",
            "- **Bob** (Developer): 0 tareas\n",
            "- **Carol** (QA): 0 tareas\n",
            "- **David** (Manager): 0 tareas\n",
            "\n",
            "Actualmente, la única tarea de alta prioridad es la siguiente:\n",
            "\n",
            "- **ID:** 1\n",
            "- **Título:** Corregir validación en formulario de login\n",
            "- **Descripción:** Arreglar el problema de validación incorrecta de los campos de correo electrónico en el formulario de la página de login.\n",
            "- **Categoría:** Bug\n",
            "- **Prioridad:** Critical\n",
            "- **Asignado a:** Alice\n",
            "- **Estado:** New\n",
            "\n",
            "Dado que Alice ya está asignada a esta tarea crítica, sería prudente asignar nuevas tareas de esta categoría a un desarrollador con menos carga, como Bob. ¿Te gustaría que proceda a crear esta nueva tarea crítica para arreglar el error en el formulario de login y asignarla a Bob?\n"
          ]
        }
      ]
    },
    {
      "cell_type": "code",
      "source": [
        "# Ejemplo 4: Estatus de la tarea\n",
        "\n",
        "messages = [{\n",
        "    \"role\": \"user\",\n",
        "    \"content\": \"\"\"Cual es el estado actual de la tarea 1?\"\"\"\n",
        "}]\n",
        "\n",
        "\n",
        "response = client.run(agent=task_manager_agent, messages=messages)\n",
        "print(response.messages[-1][\"content\"])"
      ],
      "metadata": {
        "colab": {
          "base_uri": "https://localhost:8080/"
        },
        "id": "O6bLcRO2WXKX",
        "outputId": "c3f29248-6c79-475e-ad1b-e6dc2a1fb28a"
      },
      "execution_count": 35,
      "outputs": [
        {
          "output_type": "stream",
          "name": "stdout",
          "text": [
            "La tarea con ID 1, titulada \"Corregir validación en formulario de login\", está actualmente en estado \"New\". Esta tarea es de categoría \"Bug\" y tiene una prioridad \"Critical\". Fue asignada a Alice y se espera que sea completada aproximadamente el 17 de diciembre de 2024.\n"
          ]
        }
      ]
    },
    {
      "cell_type": "code",
      "source": [
        "response.messages"
      ],
      "metadata": {
        "colab": {
          "base_uri": "https://localhost:8080/"
        },
        "id": "iSno3iaiWgTC",
        "outputId": "7a975b1d-9a1f-4234-a7a1-b6a847b474c4"
      },
      "execution_count": 36,
      "outputs": [
        {
          "output_type": "execute_result",
          "data": {
            "text/plain": [
              "[{'content': None,\n",
              "  'refusal': None,\n",
              "  'role': 'assistant',\n",
              "  'audio': None,\n",
              "  'function_call': None,\n",
              "  'tool_calls': [{'id': 'call_RqBQwTccAsS6mFEI2UDny7l2',\n",
              "    'function': {'arguments': '{\"task_id\":\"1\"}', 'name': 'get_task_status'},\n",
              "    'type': 'function'}],\n",
              "  'sender': 'Task Manager'},\n",
              " {'role': 'tool',\n",
              "  'tool_call_id': 'call_RqBQwTccAsS6mFEI2UDny7l2',\n",
              "  'tool_name': 'get_task_status',\n",
              "  'content': '{\\n  \"id\": \"1\",\\n  \"title\": \"Corregir validaci\\\\u00f3n en formulario de login\",\\n  \"description\": \"Arreglar el problema de validaci\\\\u00f3n incorrecta de los campos de correo electr\\\\u00f3nico en el formulario de la p\\\\u00e1gina de login.\",\\n  \"category\": \"Bug\",\\n  \"priority\": \"Critical\",\\n  \"assigned_to\": \"alice\",\\n  \"status\": \"New\",\\n  \"created_at\": \"2024-12-10T23:30:36.865082\",\\n  \"updated_at\": \"2024-12-10T23:30:36.865082\",\\n  \"estimated_completion\": \"2024-12-17T23:30:36.865082\"\\n}'},\n",
              " {'content': 'La tarea con ID 1, titulada \"Corregir validación en formulario de login\", está actualmente en estado \"New\". Esta tarea es de categoría \"Bug\" y tiene una prioridad \"Critical\". Fue asignada a Alice y se espera que sea completada aproximadamente el 17 de diciembre de 2024.',\n",
              "  'refusal': None,\n",
              "  'role': 'assistant',\n",
              "  'audio': None,\n",
              "  'function_call': None,\n",
              "  'tool_calls': None,\n",
              "  'sender': 'Task Manager'}]"
            ]
          },
          "metadata": {},
          "execution_count": 36
        }
      ]
    }
  ]
}
